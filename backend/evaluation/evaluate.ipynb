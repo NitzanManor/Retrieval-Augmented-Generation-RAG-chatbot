{
 "cells": [
  {
   "metadata": {},
   "cell_type": "markdown",
   "source": "# Evaluating the chatbot",
   "id": "ba863e86a3c1f395"
  },
  {
   "metadata": {},
   "cell_type": "markdown",
   "source": [
    "The ground truth data was manually created by the team and is stored in an Excel file. The file contains the following information:\n",
    "1. Question\n",
    "2. Correct answer\n",
    "3. The ID's of the relevant chunks that should be returned by the retriever, per each embedding type."
   ],
   "id": "6fc862bb1271f871"
  },
  {
   "cell_type": "code",
   "id": "initial_id",
   "metadata": {
    "collapsed": true,
    "ExecuteTime": {
     "end_time": "2024-10-27T13:19:33.120933Z",
     "start_time": "2024-10-27T13:19:26.704076Z"
    }
   },
   "source": [
    "from backend.evaluation.Evaluator import Evaluator\n",
    "from backend.pipeline.DBHandler import DBHandler\n",
    "\n",
    "import pandas as pd\n",
    "import transformers\n",
    "from retrying import retry\n",
    "\n",
    "transformers.logging.set_verbosity_error()"
   ],
   "outputs": [],
   "execution_count": 1
  },
  {
   "metadata": {
    "ExecuteTime": {
     "end_time": "2024-10-27T13:19:33.127391Z",
     "start_time": "2024-10-27T13:19:33.122866Z"
    }
   },
   "cell_type": "code",
   "source": [
    "@retry(stop_max_attempt_number=3, wait_fixed=60*1000)  # 3 attempts, 60 seconds between retries\n",
    "def get_ground_truth_data(emb, gt_file=\"./FAQ.xlsx\"):\n",
    "\t# Load ground truth data from a file\n",
    "\tdata = pd.read_excel(gt_file)\n",
    "\tQA_list = []\n",
    "\tfor i, row in data.iterrows():\n",
    "\t\tif not row.isnull().values.any():\n",
    "\t\t\trelevant_chunks_id = row[f\"relevant_chunks_id_{emb}\"].strip().split(\",\")\n",
    "\t\t\tQA_list.append((row[\"question\"], row[\"answer\"], relevant_chunks_id))\n",
    "\treturn QA_list\n"
   ],
   "id": "f8bf99d8cc48403",
   "outputs": [],
   "execution_count": 2
  },
  {
   "metadata": {
    "ExecuteTime": {
     "end_time": "2024-10-27T13:19:33.155866Z",
     "start_time": "2024-10-27T13:19:33.128569Z"
    }
   },
   "cell_type": "code",
   "source": [
    "def evaluate_chatbot(ground_truth_data, style, embedding_type, search_method, llm_name):\n",
    "\tdb_handler = DBHandler(org_id=f's_maccabi_{embedding_type}', user_id='evaluator', search_method=search_method)\n",
    "\tevaluator = Evaluator(db_handler, style=style, llm_model_name=llm_name, embedding_model_name=embedding_type)\n",
    "\tresults = evaluator.evaluate(ground_truth_data)\n",
    "\tresults['style'] = style if style != '' else 'neutral'\n",
    "\tresults['embedding_type'] = embedding_type\n",
    "\tresults['search_method'] = search_method\n",
    "\tresults['llm_name'] = llm_name\n",
    "\treturn results"
   ],
   "id": "c115af7236ff8243",
   "outputs": [],
   "execution_count": 3
  },
  {
   "metadata": {},
   "cell_type": "markdown",
   "source": [
    "Evaluating the chatbot's answers with the ground truth data. Various configurations are tested:\n",
    "1. 3 llms\n",
    "2. 3 embedding types\n",
    "3. 2 search methods\n",
    "4. 5 styles"
   ],
   "id": "9d05a73ad7cd58b1"
  },
  {
   "metadata": {
    "jupyter": {
     "is_executing": true
    },
    "ExecuteTime": {
     "start_time": "2024-10-27T13:19:33.159834Z"
    }
   },
   "cell_type": "code",
   "source": [
    "styles = ['', 'kids', 'elderly', 'emoji', 'rhymes']  # empty string means no style\n",
    "embedding_types = ['emb1',  # models/text-embedding-004\n",
    "\t\t\t\t   'emb2',  # models/embedding-001\n",
    "\t\t\t\t   'emb3']  # from HW1: SentenceTransformer('all-MiniLM-L6-v2')\n",
    "llm_names = ['gemini-1.5-flash',\n",
    "\t\t\t 'meta-llama/Meta-Llama-3.1-8B-Instruct-Turbo',\n",
    "\t\t\t 'mistralai/Mistral-7B-Instruct-v0.1'\n",
    "\t\t\t ]\n",
    "search_methods = ['approximate',\n",
    "\t\t\t\t  'exact'\n",
    "\t\t\t\t  ]\n",
    "\n",
    "full_results = pd.DataFrame(\n",
    "\tcolumns=['style', 'embedding_type', 'search_method', 'llm_name', 'question', 'true_answer', 'chatbot_answer',\n",
    "\t\t\t 'cosine_similarity', 'correctness_score', 'faithfulness_score', 'retriever_scores'])\n",
    "\n",
    "for style in styles:\n",
    "\tstr_style = style if style != '' else 'neutral'\n",
    "\tfor embedding_type in embedding_types:\n",
    "\t\tground_truth_data = get_ground_truth_data(embedding_type)\n",
    "\t\tfor llm_name in llm_names:\n",
    "\t\t\tfor search_method in search_methods:\n",
    "\t\t\t\tprint(f\"Style: {str_style}\", end=\" | \")\n",
    "\t\t\t\tprint(f\"embedding_type: {embedding_type}\", end=\" | \")\n",
    "\t\t\t\tprint(f\"llm_name: {llm_name}\", end=\" | \")\n",
    "\t\t\t\tprint(f\"search_method: {search_method} | \", end=\" Status: \")\n",
    "\t\t\t\ttry:\n",
    "\t\t\t\t\tresults = evaluate_chatbot(ground_truth_data, style, embedding_type, search_method, llm_name)\n",
    "\t\t\t\t\tfull_results = pd.concat([full_results, results], ignore_index=True)\n",
    "\t\t\t\t\tfull_results.to_csv(\"full_results.csv\", index=False)  #re-save after each iteration to be safe :)\n",
    "\t\t\t\t\tprint(\"Done\")\n",
    "\t\t\t\texcept Exception as e:\n",
    "\t\t\t\t\tprint(f\"Configuration failed\")\n",
    "\t\t\t\t\tprint(f\"Error content: {e}\", end=\"\\n\\n\")\n",
    "\t\t\t\t\tcontinue"
   ],
   "id": "130a1b2518ca9041",
   "outputs": [
    {
     "name": "stdout",
     "output_type": "stream",
     "text": [
      "Style: neutral | embedding_type: emb1 | llm_name: gemini-1.5-flash | search_method: approximate |  Status: "
     ]
    }
   ],
   "execution_count": null
  },
  {
   "metadata": {
    "jupyter": {
     "is_executing": true
    }
   },
   "cell_type": "code",
   "source": "full_results.head(100)",
   "id": "bab0f9708fa48fc0",
   "outputs": [],
   "execution_count": null
  }
 ],
 "metadata": {
  "kernelspec": {
   "display_name": "Python 3",
   "language": "python",
   "name": "python3"
  },
  "language_info": {
   "codemirror_mode": {
    "name": "ipython",
    "version": 2
   },
   "file_extension": ".py",
   "mimetype": "text/x-python",
   "name": "python",
   "nbconvert_exporter": "python",
   "pygments_lexer": "ipython2",
   "version": "2.7.6"
  }
 },
 "nbformat": 4,
 "nbformat_minor": 5
}
