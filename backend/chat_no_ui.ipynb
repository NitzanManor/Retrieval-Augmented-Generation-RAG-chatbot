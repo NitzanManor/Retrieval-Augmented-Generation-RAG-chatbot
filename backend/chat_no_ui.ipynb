{
 "cells": [
  {
   "metadata": {},
   "cell_type": "code",
   "outputs": [],
   "execution_count": null,
   "source": [
    "from pipeline.DBHandler import DBHandler\n",
    "from pipeline.Chatbot import Chatbot"
   ],
   "id": "1164c3d2d377610b"
  },
  {
   "metadata": {
    "ExecuteTime": {
     "end_time": "2024-10-29T09:42:43.231904Z",
     "start_time": "2024-10-29T09:42:39.665967Z"
    }
   },
   "cell_type": "code",
   "source": [
    "db_handler = DBHandler(org_id='s_maccabi_emb1', user_id='NoUI')\n",
    "db_handler.reset_history()\n",
    "no_ui_chat = Chatbot(db_handler, style='')\n",
    "# you can choose between no style and ['kids', 'elderly', 'emoji', 'rhymes']"
   ],
   "id": "d9628e82edeb3bf2",
   "outputs": [],
   "execution_count": 2
  },
  {
   "metadata": {
    "ExecuteTime": {
     "end_time": "2024-10-29T09:42:58.832614Z",
     "start_time": "2024-10-29T09:42:57.145831Z"
    }
   },
   "cell_type": "code",
   "source": [
    "response = no_ui_chat.answer_question('What is the capital of France?')\n",
    "print(response)"
   ],
   "id": "98875486148f020a",
   "outputs": [
    {
     "name": "stdout",
     "output_type": "stream",
     "text": [
      " The capital city of France is not mentioned in the provided information.\n"
     ]
    }
   ],
   "execution_count": 3
  },
  {
   "metadata": {
    "ExecuteTime": {
     "end_time": "2024-10-29T09:43:07.496683Z",
     "start_time": "2024-10-29T09:43:03.050094Z"
    }
   },
   "cell_type": "code",
   "source": [
    "response = no_ui_chat.answer_question('Can you explain the process of terminating a pregnancy?')\n",
    "print(response)"
   ],
   "id": "c01de0d4730a3414",
   "outputs": [
    {
     "name": "stdout",
     "output_type": "stream",
     "text": [
      " The process of terminating a pregnancy involves obtaining approval from the Committee for Termination of Pregnancy and then undergoing the action of termination of pregnancy, which can be done through medication or curettage, depending on the week of pregnancy. The service is provided in a public hospital and is free of cost. If a woman wants to terminate her pregnancy in a private setting, she can do so with the approval of the Committee for Termination of Pregnancy, but she will have to pay the doctor's salary herself. In some hospitals, no commitment is required, but it is necessary to check with the hospital whether a pledge is required. If a pledge is required, the woman needs to provide a summary document of the commission for termination of pregnancy and a letter of summons from the hospital.\n"
     ]
    }
   ],
   "execution_count": 4
  },
  {
   "metadata": {
    "ExecuteTime": {
     "end_time": "2024-10-29T09:43:19.714590Z",
     "start_time": "2024-10-29T09:43:18.081063Z"
    }
   },
   "cell_type": "code",
   "source": [
    "response = no_ui_chat.answer_question('What is the biggest planet in the solar system?')\n",
    "print(response)"
   ],
   "id": "d7b42c7d99e4a9ef",
   "outputs": [
    {
     "name": "stdout",
     "output_type": "stream",
     "text": [
      " The largest planet in our solar system is Jupiter.\n"
     ]
    }
   ],
   "execution_count": 5
  },
  {
   "metadata": {
    "ExecuteTime": {
     "end_time": "2024-10-29T09:43:53.922828Z",
     "start_time": "2024-10-29T09:43:51.614486Z"
    }
   },
   "cell_type": "code",
   "source": [
    "response = no_ui_chat.answer_question('What is the quarterly cost to visit a dental/jaw specialist?')\n",
    "print(response)"
   ],
   "id": "96db084192fe9cdc",
   "outputs": [
    {
     "name": "stdout",
     "output_type": "stream",
     "text": [
      " The cost to visit a dental/jaw specialist on a quarterly basis is 36₪ for Maccabi Shelli friends.\n"
     ]
    }
   ],
   "execution_count": 7
  },
  {
   "metadata": {
    "ExecuteTime": {
     "end_time": "2024-10-29T09:46:33.201072Z",
     "start_time": "2024-10-29T09:46:28.773308Z"
    }
   },
   "cell_type": "code",
   "source": [
    "response = no_ui_chat.answer_question('And what if i visit 3 specialists?')\n",
    "print(response)"
   ],
   "id": "6bfff41df0cb52b9",
   "outputs": [
    {
     "name": "stdout",
     "output_type": "stream",
     "text": [
      " The cost to visit three specialists on a quarterly basis varies depending on the medical institution that performs the tests and treatments. At the Maccabi Eye Institute in Assuta Shalom in Tel Aviv or with therapists who have an agreement with Maccabi, there is a 72₪ deductible for evaluation tests and a 55₪ deductible for each orthopedic treatment. In a public hospital, there is a pledge with a deduction of 72₪ for evaluation tests and a pledge with a deduction of 55₪ for each orthopedic treatment. In remote areas for patients who do not have an agreement with Maccabi, there is 50% reimbursement of the rate of the Ministry of Health and an offset of a deductible of 72₪ for evaluation tests and 55₪ for orthopedic treatment. To receive a refund, you must submit an original tax receipt and invoice to the medical center (branch) by appointment or by registered mail.\n"
     ]
    }
   ],
   "execution_count": 8
  },
  {
   "metadata": {
    "ExecuteTime": {
     "end_time": "2024-10-29T09:47:00.660521Z",
     "start_time": "2024-10-29T09:46:56.243502Z"
    }
   },
   "cell_type": "code",
   "source": [
    "response = no_ui_chat.answer_question('And how is it charged?')\n",
    "print(response)"
   ],
   "id": "3cf88dad690812d5",
   "outputs": [
    {
     "name": "stdout",
     "output_type": "stream",
     "text": [
      " The cost of visiting a dental/jaw specialist on a quarterly basis is charged as follows:\n",
      "\n",
      "* For Maccabi Shelli friends, the cost is 36₪ per quarter.\n",
      "* For a public hospital, the cost is also 36₪ per quarter, but there is an obligation of 36₪ per quarter.\n",
      "\n",
      "To obtain a commitment for a preliminary examination in a hospital, you must bring to the medical center a referral from a Maccabi doctor/cardiologist/Maccabi consultant in oral and maxillofacial medicine, and any relevant medical material.\n",
      "\n",
      "For treatment in a public hospital, you must obtain prior permission from the Maccabi. For treatment with a Maccabi doctor, you must make an appointment. Get a referral from a Maccabi therapist.\n",
      "\n",
      "For more information, please refer to the provided information.\n"
     ]
    }
   ],
   "execution_count": 9
  },
  {
   "metadata": {
    "ExecuteTime": {
     "end_time": "2024-10-29T09:48:01.563209Z",
     "start_time": "2024-10-29T09:47:58.551962Z"
    }
   },
   "cell_type": "code",
   "source": [
    "response = no_ui_chat.answer_question('Can I come to a maccabi health institutions with my dog?')\n",
    "print(response)"
   ],
   "id": "3dd2e56148ff5f33",
   "outputs": [
    {
     "name": "stdout",
     "output_type": "stream",
     "text": [
      " Yes, it is possible to bring a dog to Maccabi Health Institutions for a quarterly visit to three specialists. However, the dog must be a service animal and the owner must carry a certificate or marking attesting to being a “service animal”. The dog will be allowed to stay in an adequate facility while the owner is being treated in places that are not obliged to allow entry with a service animal. In all other places, the dog will be allowed to accompany the owner during the visit.\n"
     ]
    }
   ],
   "execution_count": 10
  },
  {
   "metadata": {},
   "cell_type": "code",
   "outputs": [],
   "execution_count": null,
   "source": "",
   "id": "91f3d29fbe4b15b8"
  }
 ],
 "metadata": {
  "kernelspec": {
   "display_name": "Python 3",
   "language": "python",
   "name": "python3"
  },
  "language_info": {
   "codemirror_mode": {
    "name": "ipython",
    "version": 2
   },
   "file_extension": ".py",
   "mimetype": "text/x-python",
   "name": "python",
   "nbconvert_exporter": "python",
   "pygments_lexer": "ipython2",
   "version": "2.7.6"
  }
 },
 "nbformat": 4,
 "nbformat_minor": 5
}
