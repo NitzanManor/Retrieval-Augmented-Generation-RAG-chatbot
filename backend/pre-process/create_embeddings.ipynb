{
 "cells": [
  {
   "cell_type": "code",
   "id": "initial_id",
   "metadata": {
    "collapsed": true,
    "ExecuteTime": {
     "end_time": "2024-10-25T16:11:13.166323Z",
     "start_time": "2024-10-25T16:11:06.811100Z"
    }
   },
   "source": [
    "from pipeline.DBHandler import DBHandler\n",
    "import cohere\n",
    "import google.generativeai as genai\n",
    "from sentence_transformers import SentenceTransformer\n",
    "\n",
    "# semantic chunking imports\n",
    "from semantic_router.splitters import RollingWindowSplitter\n",
    "from semantic_router.encoders import CohereEncoder, OpenAIEncoder\n",
    "from semantic_router.utils.logger import logger\n",
    "\n",
    "logger.setLevel(\"WARNING\")  # reduce logs from splitter\n",
    "import warnings\n",
    "warnings.filterwarnings(\"ignore\")\n",
    "\n",
    "from typing import Union\n",
    "\n",
    "import os\n",
    "from dotenv import load_dotenv\n",
    "load_dotenv()\n",
    "co = cohere.Client(api_key=os.getenv('COHERE_API_KEY'))\n"
   ],
   "execution_count": 1,
   "outputs": []
  },
  {
   "metadata": {
    "ExecuteTime": {
     "end_time": "2024-10-25T16:11:13.417639Z",
     "start_time": "2024-10-25T16:11:13.168682Z"
    }
   },
   "cell_type": "code",
   "source": [
    "def semantic_chunking(encoder: Union[type(CohereEncoder), type(OpenAIEncoder())], directory_path: str, score_threshold: float = 0.4) -> list:\n",
    "\t\"\"\"\n",
    "    Use the semantic chunking to split the documents into semantic chunks\n",
    "    Args:\n",
    "        encoder: an embedding model to use for the semantic chunking\n",
    "        directory_path (str): path to the directory containing the documents\n",
    "        score_threshold (float): the score threshold for the encoder below which the split is made, between 0 and 1\n",
    "    Returns:\n",
    "        splits (list): list of the semantic chunks\n",
    "    \"\"\"\n",
    "\tencoder.score_threshold = score_threshold\n",
    "\tsplitter = RollingWindowSplitter(\n",
    "\t\tencoder=encoder,\n",
    "\t\tdynamic_threshold=False,\n",
    "\t\tmin_split_tokens=100,\n",
    "\t\tmax_split_tokens=400,\n",
    "\t\twindow_size=5,\n",
    "\t\tplot_splits=True,\n",
    "\t\tenable_statistics=True\n",
    "\t)\n",
    "\n",
    "\tsplits = []\n",
    "\tfor file_name in os.listdir(directory_path):\n",
    "\t\tprint(file_name)\n",
    "\t\tfile = open(f'{directory_path}/{file_name}', \"r\")\n",
    "\t\texample_faq = file.read()\n",
    "\t\tfile.close()\n",
    "\n",
    "\t\tcurrent_splits = splitter([example_faq])\n",
    "\t\tcomplete_current_splits = []\n",
    "\n",
    "\t\tfor i in range(len(current_splits)-1):\n",
    "\t\t\t# for more context, add 200 chars from the previous and next splits\n",
    "\t\t\tif i == 0:\n",
    "\t\t\t\tsplit_to_add = {\n",
    "\t\t\t\t\t'text': ' '.join(current_splits[i].docs + current_splits[i + 1].docs[:200]),\n",
    "\t\t\t\t\t'origin_file': file_name\n",
    "\t\t\t\t}\n",
    "\t\t\t\tcomplete_current_splits.append(split_to_add)\n",
    "\t\t\telif i + 1 == len(current_splits):\n",
    "\t\t\t\tsplit_to_add = {\n",
    "\t\t\t\t\t'text': ' '.join(current_splits[i - 1].docs[-200:] + current_splits[i].docs),\n",
    "\t\t\t\t\t'origin_file': file_name\n",
    "\t\t\t\t}\n",
    "\t\t\t\tcomplete_current_splits.append(split_to_add)\n",
    "\t\t\telse:\n",
    "\t\t\t\tsplit_to_add = {\n",
    "\t\t\t\t\t'text': ' '.join(current_splits[i - 1].docs[-200:] + current_splits[i].docs + current_splits[i + 1].docs[:200]),\n",
    "\t\t\t\t\t'origin_file': file_name\n",
    "\t\t\t\t}\n",
    "\t\t\t\tcomplete_current_splits.append(split_to_add)\n",
    "\n",
    "\t\tsplits.extend(complete_current_splits)\n",
    "\treturn splits"
   ],
   "id": "ab8a05dae63ecd2c",
   "execution_count": 2,
   "outputs": []
  },
  {
   "metadata": {
    "ExecuteTime": {
     "end_time": "2024-10-25T16:13:07.725085Z",
     "start_time": "2024-10-25T16:11:13.419477Z"
    }
   },
   "cell_type": "code",
   "source": [
    "doc_number = len(os.listdir('data/docs'))\n",
    "if doc_number >= 50:\n",
    "\tsplits = semantic_chunking(CohereEncoder(), 'data/docs', 0.4)\n",
    "else:\n",
    "\tprint(f'The number of documents is {doc_number}')"
   ],
   "id": "c87c4450b7213f38",
   "execution_count": 3,
   "outputs": []
  },
  {
   "metadata": {
    "ExecuteTime": {
     "end_time": "2024-10-25T16:19:44.184067Z",
     "start_time": "2024-10-25T16:19:44.179297Z"
    }
   },
   "cell_type": "code",
   "source": "splits[0]",
   "id": "64153d27dbce0815",
   "execution_count": 8,
   "outputs": []
  },
  {
   "metadata": {
    "ExecuteTime": {
     "end_time": "2024-10-25T16:21:53.548632Z",
     "start_time": "2024-10-25T16:21:53.541834Z"
    }
   },
   "cell_type": "code",
   "source": [
    "def google_embedding(text: str, model_name) -> list:\n",
    "\t\"\"\"\n",
    "\tEmbeds the text using the embedding model\n",
    "\tArgs:\n",
    "\t\ttext (str): the text to embed\n",
    "\tReturns:\n",
    "\t\tembedding (list): the embedding vector of the text\n",
    "\tRaises:\n",
    "\t\tException: if there is an error in embedding the text\n",
    "\t\"\"\"\n",
    "\ttry:\n",
    "\t\tembedding = genai.embed_content(model=model_name, content=text,\n",
    "\t\t\t\t\t\t\t\t\t\ttask_type='retrieval_document')\n",
    "\texcept Exception as e:\n",
    "\t\traise Exception(f'Error in embedding the text: {e}')\n",
    "\n",
    "\treturn embedding['embedding']\n",
    "\n",
    "def cohere_embedding(text: str) -> list:\n",
    "\t\"\"\"\n",
    "\tUse the Google Embedding API to embed the text\n",
    "\tArgs:\n",
    "\t\ttext (str): the text to embed\n",
    "\tReturns:\n",
    "\t\tembedding (list): the embedding vector of the text\n",
    "\tRaises:\n",
    "\t\tException: if there is an error in embedding the text\n",
    "\t\"\"\"\n",
    "\tmodel = SentenceTransformer('all-MiniLM-L6-v2')\n",
    "\ttry:\n",
    "\t\tembedding = model.encode(text)\n",
    "\texcept Exception as e:\n",
    "\t\traise Exception(f'Error in embedding the text: {e}')\n",
    "\n",
    "\tembedding_list = list(embedding)\n",
    "\tembedding_to_return = [float(num) for num in embedding_list]\n",
    "\treturn embedding_to_return\n",
    "\n",
    "from backend.utils.helpers import decode_embedding_model_name\n",
    "def create_chunks(splits, emb):\n",
    "\tchunks = []\n",
    "\tfor split in splits:\n",
    "\t\tif emb in ['emb1', 'emb2']:\n",
    "\t\t\tembedding = google_embedding(split['text'], decode_embedding_model_name(emb))\n",
    "\t\telif emb == 'emb3':\n",
    "\t\t\tembedding = cohere_embedding(split['text'])\n",
    "\t\tchunk = {\n",
    "\t\t\t'text': split['text'],\n",
    "\t\t\t'embedding': embedding,\n",
    "\t\t\t'origin_file': split['origin_file']\n",
    "\t\t}\n",
    "\t\tchunks.append(chunk)\n",
    "\treturn chunks\n"
   ],
   "id": "ece97861e68df292",
   "execution_count": 9,
   "outputs": []
  },
  {
   "metadata": {
    "ExecuteTime": {
     "end_time": "2024-10-25T16:26:00.379258Z",
     "start_time": "2024-10-25T16:21:54.447748Z"
    }
   },
   "cell_type": "code",
   "source": [
    "for emb in ['emb1', 'emb2', 'emb3']:\n",
    "\tprint(f'Creating embeddings for {emb}')\n",
    "\thandler = DBHandler(org_id=f's_maccabi_{emb}', user_id='evaluator')\n",
    "\tchunks = create_chunks(splits, emb)\n",
    "\tprint(f'Updating the database with the embeddings for {emb}')\n",
    "\thandler.update('embeddings', chunks)"
   ],
   "id": "5a722a45e15738c3",
   "execution_count": 10,
   "outputs": []
  },
  {
   "metadata": {},
   "cell_type": "code",
   "source": "",
   "id": "fc4f144e6b2c025f",
   "execution_count": null,
   "outputs": []
  }
 ],
 "metadata": {
  "kernelspec": {
   "display_name": "Python 3",
   "language": "python",
   "name": "python3"
  },
  "language_info": {
   "codemirror_mode": {
    "name": "ipython",
    "version": 2
   },
   "file_extension": ".py",
   "mimetype": "text/x-python",
   "name": "python",
   "nbconvert_exporter": "python",
   "pygments_lexer": "ipython2",
   "version": "2.7.6"
  }
 },
 "nbformat": 4,
 "nbformat_minor": 5
}
