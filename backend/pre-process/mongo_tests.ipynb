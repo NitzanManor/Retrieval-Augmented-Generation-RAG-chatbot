{
 "cells": [
  {
   "metadata": {
    "ExecuteTime": {
     "end_time": "2024-10-14T21:25:07.768123Z",
     "start_time": "2024-10-14T21:25:07.758497Z"
    }
   },
   "cell_type": "code",
   "source": [
    "from pymongo import MongoClient\n",
    "from pymongo.results import InsertOneResult, InsertManyResult\n",
    "from pymongo.errors import BulkWriteError\n",
    "\n",
    "from typing import Union\n",
    "\n",
    "import os\n",
    "from dotenv import load_dotenv\n",
    "\n",
    "load_dotenv()\n"
   ],
   "id": "ec710063d549c562",
   "execution_count": 122,
   "outputs": []
  },
  {
   "metadata": {
    "ExecuteTime": {
     "end_time": "2024-10-14T22:16:23.282078Z",
     "start_time": "2024-10-14T22:16:23.275954Z"
    }
   },
   "cell_type": "code",
   "source": [
    "# example_history = [\n",
    "# \t{'role': 'user', 'content': 'What is the capital of France?'},\n",
    "# \t{'role': 'bot', 'content': 'The capital of France is Paris.'},\n",
    "# \t{'role': 'user', 'content': 'And what is its population?'},\n",
    "# ]\n",
    "\n",
    "example_history = [\n",
    "\t{'role': 'user', 'content': 'What are the terms for terminating a pregnancy?'}\n",
    "]"
   ],
   "id": "b981a4e6379b2280",
   "execution_count": 126,
   "outputs": []
  },
  {
   "metadata": {
    "ExecuteTime": {
     "end_time": "2024-10-14T20:09:01.952213Z",
     "start_time": "2024-10-14T20:09:01.942043Z"
    }
   },
   "cell_type": "code",
   "source": [
    "class DBHandler:\n",
    "\tdef __init__(self, user_id: str, connection_string: Union[str, None] = None):\n",
    "\t\t\"\"\"\n",
    "        Initialize the DBHandler class\n",
    "        Args:\n",
    "            user_id (str): The name of the collection containing the chat histories\n",
    "            connection_string (str): The connection string to the MongoDB database\n",
    "\t\tRaises:\n",
    "\t\t\tValueError: If the connection string is not a non-empty string\n",
    "\t\t\tRuntimeError: If an error occurs while trying to connect to the database\n",
    "        \"\"\"\n",
    "\t\t# constants\n",
    "\t\tself.embeddings_db = 'embeddings'\n",
    "\t\tself.histories_db = 'histories'\n",
    "\n",
    "\t\tif not connection_string:\n",
    "\t\t\tconnection_string = os.getenv('MONGODB_CONNECTION_STRING')\n",
    "\t\ttry:\n",
    "\t\t\tif not connection_string or not isinstance(connection_string, str):\n",
    "\t\t\t\traise ValueError('Connection string must be a non-empty string.')\n",
    "\t\t\telse:\n",
    "\t\t\t\tself.client = MongoClient(connection_string)\n",
    "\t\texcept Exception as e:\n",
    "\t\t\traise f'An error occurred while trying to connect to the database: {e}'\n",
    "\n",
    "\t\tself.embeddings_collection = self.client[self.embeddings_db][user_id]\n",
    "\t\tself.history_collection = self.client[self.histories_db][user_id]\n",
    "\n",
    "\tdef get_history(self) -> list:\n",
    "\t\t\"\"\"\n",
    "        Get the chat history from the database\n",
    "        Returns:\n",
    "            formatted_messages (list): A list of strings containing the chat history in the format 'role: content'\n",
    "        Raises:\n",
    "        \tRuntimeError: If an error occurs while trying to get the chat history\n",
    "        \"\"\"\n",
    "\t\ttry:\n",
    "\t\t\tmessages = self.history_collection.find()\n",
    "\t\texcept Exception as e:\n",
    "\t\t\traise RuntimeError(f'An error occurred while trying to get the chat history: {e}')\n",
    "\n",
    "\t\t# Format the messages in the desired 'role: content' format\n",
    "\t\tformatted_messages = [f\"{message['role']}: {message['content']}\" for message in messages]\n",
    "\t\treturn formatted_messages\n",
    "\n",
    "\tdef update(self, db: str, items: Union[dict, list]) -> Union[InsertOneResult, InsertManyResult]:\n",
    "\t\t\"\"\"\n",
    "        Update the chat history in the database\n",
    "        Args:\n",
    "            db (str): The name of the db to update, either 'embeddings' or 'history'\n",
    "            items (dict or list): A dictionary or a list of dictionaries containing the items to be added to the collection\n",
    "        Returns:\n",
    "            InsertOneResult or InsertManyResult: The ID of the inserted document or a list of IDs of the inserted documents\n",
    "        Raises:\n",
    "            ValueError: If the message is not a dictionary or a list of dictionaries\n",
    "            RuntimeError: If an error occurs while trying to update the chat history\n",
    "        \"\"\"\n",
    "\t\tif db == 'embeddings':\n",
    "\t\t\tcollection = self.embeddings_collection\n",
    "\t\telif db == 'history':\n",
    "\t\t\tcollection = self.history_collection\n",
    "\t\telse:\n",
    "\t\t\traise ValueError('The db must be either \"embeddings\" or \"history\".')\n",
    "\n",
    "\t\ttry:\n",
    "\t\t\tif isinstance(items, dict):\n",
    "\t\t\t\tresult = collection.insert_one(items)\n",
    "\t\t\telif isinstance(items, list):\n",
    "\t\t\t\tresult = collection.insert_many(items)\n",
    "\t\t\telse:\n",
    "\t\t\t\traise ValueError('items must be a dictionary or a list of dictionaries.')\n",
    "\t\texcept BulkWriteError as bwe:\n",
    "\t\t\traise RuntimeError(f'Duplicate key error occurred: {bwe.details}')\n",
    "\t\texcept Exception as e:\n",
    "\t\t\traise RuntimeError(f'An error occurred while trying to update the chat history: {e}')\n",
    "\n",
    "\t\treturn result\n",
    "\n",
    "\tdef reset_history(self):\n",
    "\t\t\"\"\"\n",
    "        Delete all the chat history from the collection\n",
    "        Raises:\n",
    "        \tRuntimeError: If an error occurs while trying to reset the chat history\n",
    "        \"\"\"\n",
    "\t\ttry:\n",
    "\t\t\tself.history_collection.delete_many({})\n",
    "\t\texcept Exception as e:\n",
    "\t\t\traise RuntimeError(f'An error occurred while trying to reset the chat history: {e}')\n",
    "\n",
    "\tdef search(self, query_vector: list, n: int = 5) -> list:\n",
    "\t\t\"\"\"\n",
    "\t\tUse MongoDB's Atlas vector search to find the most similar embeddings to the query vector\n",
    "\t\tArgs:\n",
    "\t\t\tquery_vector (list): A list containing the query vector\n",
    "\t\t\tn (int): The number of most similar embeddings to return\n",
    "\t\tReturns:\n",
    "\t\t\tresults (list): A list dicts containing the most similar items according to the cosine similarity\n",
    "\t\tRaises:\n",
    "\t\t\tRuntimeError: If an error occurs while trying to search for similar embeddings\n",
    "\t\t\"\"\"\n",
    "\t\tpipeline = [\n",
    "\t\t\t{\n",
    "\t\t\t\t'$vectorSearch': {\n",
    "\t\t\t\t\t'exact': False,\n",
    "\t\t\t\t\t'index': 'maccabi_index',\n",
    "\t\t\t\t\t'limit': n,\n",
    "\t\t\t\t\t'numCandidates': n * 20,  # according to the documentation, should be 10-20 times the limit\n",
    "\t\t\t\t\t'path': 'embedding',\n",
    "\t\t\t\t\t'queryVector': query_vector,\n",
    "\t\t\t\t}\n",
    "\t\t\t},\n",
    "\t\t\t{\n",
    "\t\t\t\t'$project': {\n",
    "\t\t\t\t\t'_id': 0,\n",
    "\t\t\t\t\t'text': 1,\n",
    "\t\t\t\t\t'embedding': 1,\n",
    "\t\t\t\t\t'score': {\n",
    "\t\t\t\t\t\t'$meta': 'vectorSearchScore'\n",
    "\t\t\t\t\t}\n",
    "\t\t\t\t}\n",
    "\t\t\t}\n",
    "\t\t]\n",
    "\t\t\n",
    "\t\ttry:\n",
    "\t\t\tresults = self.embeddings_collection.aggregate(pipeline)\n",
    "\t\texcept Exception as e:\n",
    "\t\t\traise RuntimeError(f'An error occurred while trying to search for similar embeddings: {e}')\n",
    "\t\t\n",
    "\t\tresults_to_return = []\n",
    "\t\tfor result in results:\n",
    "\t\t\treadable_result = {\n",
    "\t\t\t\t'text': result['text'],\n",
    "\t\t\t\t'embedding': result['embedding'],\n",
    "\t\t\t\t'score': result['score']\n",
    "\t\t\t}\n",
    "\t\t\tresults_to_return.append(readable_result)\n",
    "\t\t\n",
    "\t\treturn results_to_return\n"
   ],
   "id": "b2bdf7d9b14050c6",
   "execution_count": 112,
   "outputs": []
  },
  {
   "metadata": {
    "ExecuteTime": {
     "end_time": "2024-10-14T21:25:38.157995Z",
     "start_time": "2024-10-14T21:25:38.110333Z"
    }
   },
   "cell_type": "code",
   "source": "handler = DBHandler('maccabi')",
   "id": "f25187660b429ab8",
   "execution_count": 124,
   "outputs": []
  },
  {
   "metadata": {
    "ExecuteTime": {
     "end_time": "2024-10-14T22:17:37.686707Z",
     "start_time": "2024-10-14T22:17:37.564845Z"
    }
   },
   "cell_type": "code",
   "source": [
    "handler.reset_history()\n",
    "handler.update('history', example_history)"
   ],
   "id": "e6a006ecedb8ecec",
   "execution_count": 129,
   "outputs": []
  },
  {
   "metadata": {},
   "cell_type": "code",
   "execution_count": null,
   "source": "",
   "id": "1daa7df9a7586eaf",
   "outputs": []
  }
 ],
 "metadata": {
  "kernelspec": {
   "display_name": "Python 3",
   "language": "python",
   "name": "python3"
  },
  "language_info": {
   "codemirror_mode": {
    "name": "ipython",
    "version": 2
   },
   "file_extension": ".py",
   "mimetype": "text/x-python",
   "name": "python",
   "nbconvert_exporter": "python",
   "pygments_lexer": "ipython2",
   "version": "2.7.6"
  }
 },
 "nbformat": 4,
 "nbformat_minor": 5
}
